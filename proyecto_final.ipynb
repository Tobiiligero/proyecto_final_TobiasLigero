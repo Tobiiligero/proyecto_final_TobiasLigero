import nbformat as nbf

# Crear un nuevo cuaderno 
nb = nbf.v4.new_notebook()

# Ejercicio 2: Celda Markdown con el título del cuaderno
title_cell = nbf.v4.new_markdown_cell("# Título del Cuaderno")
nb.cells.append(title_cell)

# Ejercicio 3: Celda Markdown para una introducción
introduction_cell = nbf.v4.new_markdown_cell("## Introducción\nEste cuaderno presenta...")
nb.cells.append(introduction_cell)

# Ejercicio 4: Celda Markdown para enumerar los lenguajes de la ciencia de datos
data_science_languages_cell = nbf.v4.new_markdown_cell("## Lenguajes de la Ciencia de Datos\n- Python\n- R\n- SQL")
nb.cells.append(data_science_languages_cell)

# Ejercicio 5: Celda Markdown para listar bibliotecas de ciencia de datos
data_science_libraries_cell = nbf.v4.new_markdown_cell("## Bibliotecas de Ciencia de Datos\n- Pandas\n- NumPy\n- Scikit-learn")
nb.cells.append(data_science_libraries_cell)

# Ejercicio 6: Celda Markdown con una tabla de herramientas de Ciencia de Datos
data_science_tools_cell = nbf.v4.new_markdown_cell("| Herramienta | Descripción |\n| ----------- | ----------- |\n| Jupyter Notebook | Entorno interactivo para la programación en Python |\n| RStudio | Entorno integrado para programación en R |\n| TensorFlow | Biblioteca de código abierto para aprendizaje automático |\n")
nb.cells.append(data_science_tools_cell)

# Ejercicio 7: Celda Markdown con ejemplos de expresiones aritméticas
arithmetic_examples_cell = nbf.v4.new_markdown_cell("## Ejemplos de Expresiones Aritméticas\n- Suma: 2 + 2\n- Multiplicación: 3 * 5\n- División: 10 / 2")
nb.cells.append(arithmetic_examples_cell)

# Ejercicio 8: Celda de código para multiplicar y sumar números
code_cell = nbf.v4.new_code_cell("a = 5\nb = 3\nsuma = a + b\nmultiplicacion = a * b\nprint('La suma es:', suma)\nprint('La multiplicación es:', multiplicacion)")
nb.cells.append(code_cell)

# Ejercicio 9: Celda de código para convertir minutos en horas
conversion_code_cell = nbf.v4.new_code_cell("minutos = 150\nhoras = minutos / 60\nprint('El equivalente en horas es:', horas)")
nb.cells.append(conversion_code_cell)

# Ejercicio 10: Celda de código para listar Objetivos
objectives_code_cell = nbf.v4.new_code_cell("# Objetivos\n- Aprender a utilizar JupyterLite\n- Practicar la creación de celdas Markdown y de código\n- Familiarizarse con nbformat")
nb.cells.append(objectives_code_cell)

# Ejercicio 11: Celda Markdown para indicar el nombre del Autor
author_cell = nbf.v4.new_markdown_cell("## Autor\n- Tobias Ligero")
nb.cells.append(author_cell)

# Convertir el cuaderno a formato JSON y guardarlo en un archivo
filename = "proyecto_final.ipynb"
with open(filename, "w") as f:
    nbf.write(nb, f)

print(f"El cuaderno se ha guardado como '{filename}'.")
